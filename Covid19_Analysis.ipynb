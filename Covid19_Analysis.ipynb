{
 "cells": [
  {
   "cell_type": "markdown",
   "metadata": {},
   "source": [
    "## COVID-19 death analysis using XGBoost\n",
    "## Author: Jun Kim\n",
    "## Objective: Build a model that predicts whether a COVID-19 case results in a death or not\n",
    "#### This data was obtained from the CDC and can be downloaded here: https://data.cdc.gov/Case-Surveillance/COVID-19-Case-Surveillance-Public-Use-Data-with-Ge/n8mc-b4w4.  Descriptions of the features are also listed on the site."
   ]
  },
  {
   "cell_type": "code",
   "execution_count": 165,
   "metadata": {},
   "outputs": [],
   "source": [
    "import pandas as pd\n",
    "import numpy as np\n",
    "from xgboost import XGBClassifier\n",
    "from sklearn.preprocessing import OneHotEncoder\n",
    "from sklearn.model_selection import train_test_split\n",
    "from sklearn.metrics import roc_curve, roc_auc_score\n",
    "from sklearn.metrics import precision_score, recall_score, accuracy_score\n",
    "import matplotlib.pylab as plt\n",
    "import shap"
   ]
  },
  {
   "cell_type": "markdown",
   "metadata": {},
   "source": [
    "#### Due to the very large size of the original dataset, a sample of around 268,000 rows was used for this analysis.  The dates range from Jan 2020 to Sept 2021\n",
    "\n",
    "#### The training set contains data from Jan 2020 to June 2021, and the test set contains data from July 2021 onwards. This results in roughly an 80%-20% split"
   ]
  },
  {
   "cell_type": "code",
   "execution_count": 166,
   "metadata": {},
   "outputs": [
    {
     "name": "stdout",
     "output_type": "stream",
     "text": [
      "(217667, 19)\n",
      "(50303, 19)\n"
     ]
    }
   ],
   "source": [
    "# Load data\n",
    "df_train = pd.read_csv('train.csv', low_memory=False)\n",
    "df_test = pd.read_csv('test.csv', low_memory=False)\n",
    "\n",
    "# Check shapes\n",
    "print(df_train.shape)\n",
    "print(df_test.shape)"
   ]
  },
  {
   "cell_type": "markdown",
   "metadata": {},
   "source": [
    "## Data Wrangling and preparation\n",
    "#### This data has a lot of missing values, but since XGBoost is known to be able to handle sparse data well, I've decided to leave in the missing values.\n",
    "#### However, the One-Hot Encoder will not accept NaNs, so below is the process to remedy this:\n",
    "#### 1) Create a column called \"Missing\" for all missing categorical values\n",
    "#### 2) Encode using the One-Hot Encoder\n",
    "#### 3) Wherever the \"Missing\" column = 1, set the entire row to Nan\n",
    "#### 4) Delete the \"Missing\" column"
   ]
  },
  {
   "cell_type": "code",
   "execution_count": 167,
   "metadata": {},
   "outputs": [
    {
     "name": "stdout",
     "output_type": "stream",
     "text": [
      "Train shape: (217667, 16)\n",
      "Test shape: (50303, 16)\n"
     ]
    }
   ],
   "source": [
    "# Drop variables\n",
    "# - state_fips_code is already reflected in the state\n",
    "# - There are 1,380 distinct county_fips_code values and 955 distinct res_county values in the training set\n",
    "#   This would blow up the feature input space way too much\n",
    "df_train.drop(['state_fips_code', 'res_county', 'county_fips_code'], axis=1, inplace=True)\n",
    "df_test.drop(['state_fips_code', 'res_county', 'county_fips_code'], axis=1, inplace=True)\n",
    "\n",
    "# Temporarily fill missing categorical for training set\n",
    "df_train.replace({'res_state':{np.nan:'Missing'}}, inplace=True)\n",
    "df_train.replace({'age_group':{np.nan:'Missing'}}, inplace=True)\n",
    "df_train.replace({'sex':{np.nan:'Missing', 'Unknown':'Missing'}}, inplace=True)\n",
    "df_train.replace({'race':{np.nan:'Missing', 'Unknown':'Missing'}}, inplace=True)\n",
    "df_train.replace({'ethnicity':{np.nan:'Missing', 'Unknown':'Missing'}}, inplace=True)\n",
    "df_train.replace({'process':{np.nan:'Missing', 'Unknown':'Missing', \\\n",
    "                             'Other detection method (specify)':'Missing', 'Other':'Missing'}}, inplace=True)\n",
    "\n",
    "# Temporarily fill missing values for test set\n",
    "df_test.replace({'res_state':{np.nan:'Missing'}}, inplace=True)\n",
    "df_test.replace({'age_group':{np.nan:'Missing'}}, inplace=True)\n",
    "df_test.replace({'sex':{np.nan:'Missing', 'Unknown':'Missing'}}, inplace=True)\n",
    "df_test.replace({'race':{np.nan:'Missing', 'Unknown':'Missing'}}, inplace=True)\n",
    "df_test.replace({'ethnicity':{np.nan:'Missing', 'Unknown':'Missing'}}, inplace=True)\n",
    "df_test.replace({'process':{np.nan:'Missing', 'Unknown':'Missing', \\\n",
    "                            'Other detection method (specify)':'Missing', 'Other':'Missing'}}, inplace=True)\n",
    "df_test.replace({'symptomatic_yn':{'nul':np.nan}}, inplace=True)\n",
    "df_test['symptomatic_yn'] = pd.to_numeric(df_test['symptomatic_yn'])\n",
    "df_test.replace({'icu_yn':{'nul':np.nan}}, inplace=True)\n",
    "df_test['icu_yn'] = pd.to_numeric(df_test['icu_yn'])\n",
    "\n",
    "# Check shapes\n",
    "print(\"Train shape:\", df_train.shape)\n",
    "print(\"Test shape:\", df_test.shape)"
   ]
  },
  {
   "cell_type": "code",
   "execution_count": 168,
   "metadata": {},
   "outputs": [],
   "source": [
    "# One-hot encode categorical variables\n",
    "# Wherever the \"Missing\" column is a 1, change that entire row to NaN. Then, delete the \"Missing\" column\n",
    "# Also keep track of the new column names\n",
    "columns = []\n",
    "\n",
    "def encode_with_nan(train, test, feature, all_columns):\n",
    "    '''Encodes the feature given but preserves NaNs'''\n",
    "    # Encode using One-Hot encoder\n",
    "    encoder = OneHotEncoder(handle_unknown='ignore', sparse=False)\n",
    "    encoder.fit(train[[feature]])\n",
    "    enc_train = encoder.transform(train[[feature]])\n",
    "    enc_test = encoder.transform(test[[feature]])\n",
    "\n",
    "    # If the \"Missing\" column = 1, change that entire row to NaN\n",
    "    names = np.array(encoder.categories_).flatten()\n",
    "    missing_index = np.argwhere(names=='Missing').flatten()\n",
    "    for i in range(len(enc_train)):\n",
    "        if enc_train[i, missing_index] == 1:\n",
    "            enc_train[i] = np.nan\n",
    "    for i in range(len(enc_test)):\n",
    "        if enc_test[i, missing_index] == 1:\n",
    "            enc_test[i] = np.nan\n",
    "            \n",
    "    # Delete the \"Missing\" column, then append column names\n",
    "    enc_train = np.delete(enc_train, missing_index, axis=1)\n",
    "    enc_test = np.delete(enc_test, missing_index, axis=1)\n",
    "    names = np.delete(names, missing_index)\n",
    "    for i in names:\n",
    "        all_columns.append(i)\n",
    "    \n",
    "    return enc_train, enc_test\n",
    "\n",
    "# Encode for each of the multiclass variables\n",
    "state_train, state_test = encode_with_nan(df_train, df_test, 'res_state', columns)\n",
    "age_train, age_test = encode_with_nan(df_train, df_test, 'age_group', columns)\n",
    "sex_train, sex_test = encode_with_nan(df_train, df_test, 'sex', columns)\n",
    "race_train, race_test = encode_with_nan(df_train, df_test, 'race', columns)\n",
    "ethnicity_train, ethnicity_test = encode_with_nan(df_train, df_test, 'ethnicity', columns)\n",
    "process_train, process_test = encode_with_nan(df_train, df_test, 'process', columns)"
   ]
  },
  {
   "cell_type": "code",
   "execution_count": 169,
   "metadata": {},
   "outputs": [],
   "source": [
    "# Represent case_month as the number of months since Jan 2020\n",
    "\n",
    "# Since Covid-19 has mutated and we have seen many different variants, it is expected that death rates\n",
    "#   may vary depending on what variant was prevalent at the time.  Keeping the month as a variable\n",
    "#   can take this into account and give heavier weight to more recent examples\n",
    "\n",
    "month_train = (pd.to_datetime(df_train['case_month']).dt.year - 2020) * 12 + \\\n",
    "               pd.to_datetime(df_train['case_month']).dt.month\n",
    "month_train = month_train.to_frame()\n",
    "\n",
    "month_test = (pd.to_datetime(df_test['case_month']).dt.year - 2020) * 12 + \\\n",
    "               pd.to_datetime(df_test['case_month']).dt.month\n",
    "month_test = month_test.to_frame()\n",
    "\n",
    "# Append feature names\n",
    "columns.append('case_month')"
   ]
  },
  {
   "cell_type": "code",
   "execution_count": 170,
   "metadata": {},
   "outputs": [
    {
     "name": "stdout",
     "output_type": "stream",
     "text": [
      "X train shape: (217667, 79)\n",
      "y train shape: (217667,)\n",
      "X test shape: (50303, 79)\n",
      "y test shape: (50303,)\n",
      "Length of column names: 79\n"
     ]
    }
   ],
   "source": [
    "# Concatenate into the final dataset in the order that the column names were added\n",
    "\n",
    "# Training set\n",
    "y = df_train['death_yn']\n",
    "df_train.drop(['case_month', 'res_state', 'age_group', 'sex', 'race', \\\n",
    "               'ethnicity', 'process', 'death_yn'], axis=1, inplace=True)\n",
    "X = np.concatenate([state_train, age_train, sex_train, race_train, ethnicity_train, \\\n",
    "                    process_train, month_train, df_train], axis=1)\n",
    "\n",
    "# Test set\n",
    "y_test = df_test['death_yn']\n",
    "df_test.drop(['case_month', 'res_state', 'age_group', 'sex', 'race', \\\n",
    "              'ethnicity', 'process', 'death_yn'], axis=1, inplace=True)\n",
    "X_test = np.concatenate([state_test, age_test, sex_test, race_test, ethnicity_test, \\\n",
    "                         process_test, month_test, df_test], axis=1)\n",
    "\n",
    "# Append remaining feature names\n",
    "for i in df_train.columns:\n",
    "    columns.append(i)\n",
    "\n",
    "# Check shapes\n",
    "print(\"X train shape:\", X.shape)\n",
    "print(\"y train shape:\", y.shape)\n",
    "print(\"X test shape:\", X_test.shape)\n",
    "print(\"y test shape:\", y_test.shape)\n",
    "print(\"Length of column names:\", len(columns))"
   ]
  },
  {
   "cell_type": "markdown",
   "metadata": {},
   "source": [
    "## Modeling with XGBoost"
   ]
  },
  {
   "cell_type": "code",
   "execution_count": 171,
   "metadata": {},
   "outputs": [
    {
     "name": "stdout",
     "output_type": "stream",
     "text": [
      "Max depth: 1. n_est: 100\n",
      "Precision: 0.8418\n",
      "Recall: 0.4409\n",
      "Accuracy: 0.9816\n",
      "AUC: 0.9827\n",
      "\n",
      "Max depth: 1. n_est: 150\n",
      "Precision: 0.8357\n",
      "Recall: 0.4810\n",
      "Accuracy: 0.9824\n",
      "AUC: 0.9841\n",
      "\n",
      "Max depth: 1. n_est: 200\n",
      "Precision: 0.8323\n",
      "Recall: 0.5040\n",
      "Accuracy: 0.9829\n",
      "AUC: 0.9846\n",
      "\n",
      "Max depth: 6. n_est: 100\n",
      "Precision: 0.8236\n",
      "Recall: 0.6264\n",
      "Accuracy: 0.9855\n",
      "AUC: 0.9893\n",
      "\n",
      "Max depth: 6. n_est: 150\n",
      "Precision: 0.8196\n",
      "Recall: 0.6360\n",
      "Accuracy: 0.9856\n",
      "AUC: 0.9893\n",
      "\n",
      "Max depth: 6. n_est: 200\n",
      "Precision: 0.8104\n",
      "Recall: 0.6419\n",
      "Accuracy: 0.9854\n",
      "AUC: 0.9892\n",
      "\n",
      "Max depth: 11. n_est: 100\n",
      "Precision: 0.7989\n",
      "Recall: 0.6350\n",
      "Accuracy: 0.9850\n",
      "AUC: 0.9883\n",
      "\n",
      "Max depth: 11. n_est: 150\n",
      "Precision: 0.7854\n",
      "Recall: 0.6398\n",
      "Accuracy: 0.9847\n",
      "AUC: 0.9879\n",
      "\n",
      "Max depth: 11. n_est: 200\n",
      "Precision: 0.7787\n",
      "Recall: 0.6376\n",
      "Accuracy: 0.9844\n",
      "AUC: 0.9874\n",
      "\n"
     ]
    }
   ],
   "source": [
    "# Hyperparameter grid search (Warning: this step takes a while)\n",
    "\n",
    "# Since this is a very imbalanced dataset, I have chosen to use \n",
    "#   AUC, Precision, and Recall in addition to Accuracy\n",
    "X_train, X_val, y_train, y_val = train_test_split(X, y, test_size=0.3)\n",
    "\n",
    "for depth in range(1, 12, 5): \n",
    "    for n_est in range(100, 201, 50):\n",
    "        xgb = XGBClassifier(max_depth=depth, n_estimators=n_est, \\\n",
    "                            use_label_encoder=False, eval_metric='logloss')\n",
    "        xgb.fit(X_train, y_train)\n",
    "        pred = xgb.predict(X_val)\n",
    "        pred_proba = xgb.predict_proba(X_val)[:,1]\n",
    "        \n",
    "        # Compute metrics\n",
    "        accuracy = accuracy_score(y_val, pred)\n",
    "        precision = precision_score(y_val, pred)\n",
    "        recall = recall_score(y_val, pred)\n",
    "        auc = roc_auc_score(y_val, pred_proba)\n",
    "        \n",
    "        # Print results\n",
    "        print(f\"Max depth: {depth}. n_est: {n_est}\")\n",
    "        print(f\"Precision: {precision:.4f}\")\n",
    "        print(f\"Recall: {recall:.4f}\")\n",
    "        print(f\"Accuracy: {accuracy:.4f}\")\n",
    "        print(f\"AUC: {auc:.4f}\\n\")"
   ]
  },
  {
   "cell_type": "markdown",
   "metadata": {},
   "source": [
    "#### Best maximum depth seems to be at around 6 trees, and 200 trees gives us a good balance between precision and recall.  We will go with that for our final model."
   ]
  },
  {
   "cell_type": "code",
   "execution_count": 173,
   "metadata": {},
   "outputs": [
    {
     "name": "stdout",
     "output_type": "stream",
     "text": [
      "AUC: 0.9835\n"
     ]
    },
    {
     "data": {
      "image/png": "[encoded data removed]",
      "text/plain": [
       "<Figure size 432x288 with 1 Axes>"
      ]
     },
     "metadata": {
      "needs_background": "light"
     },
     "output_type": "display_data"
    }
   ],
   "source": [
    "# Evaluate final Model with optimal hyperparameters\n",
    "xgb = XGBClassifier(max_depth=6, n_estimators=200 , \\\n",
    "                    use_label_encoder=False, eval_metric='logloss')\n",
    "xgb.fit(X, y)\n",
    "pred_prob = xgb.predict_proba(X_test)[:,1]\n",
    "auc = roc_auc_score(y_test, pred_prob)\n",
    "fpr, tdr, thresh = roc_curve(y_test, pred_prob)\n",
    "\n",
    "# AUC and ROC graph\n",
    "plt.plot(fpr, tdr)\n",
    "plt.title(\"ROC Curve\")\n",
    "print(f'AUC: {auc:.4f}')"
   ]
  },
  {
   "cell_type": "code",
   "execution_count": 176,
   "metadata": {},
   "outputs": [
    {
     "name": "stdout",
     "output_type": "stream",
     "text": [
      "Top Ten Features:\n",
      "\n",
      "65+ years. Importance: 0.33\n",
      "CA. Importance: 0.16\n",
      "IL. Importance: 0.04\n",
      "PA. Importance: 0.03\n",
      "MO. Importance: 0.03\n",
      "NC. Importance: 0.03\n",
      "hosp_yn. Importance: 0.02\n",
      "WA. Importance: 0.02\n",
      "MA. Importance: 0.02\n",
      "ND. Importance: 0.02\n"
     ]
    },
    {
     "data": {
      "image/png": "[encoded data removed]",
      "text/plain": [
       "<Figure size 864x288 with 1 Axes>"
      ]
     },
     "metadata": {
      "needs_background": "light"
     },
     "output_type": "display_data"
    }
   ],
   "source": [
    "# Most significant variables\n",
    "imp = xgb.feature_importances_.flatten()\n",
    "columns = np.array(columns)\n",
    "abs_imp = np.abs(imp)\n",
    "indexes = np.flip(np.argsort(abs_imp))\n",
    "top_ten_features = columns[indexes][:10]\n",
    "top_ten_imp = abs_imp[indexes][:10]\n",
    "\n",
    "# Plot\n",
    "plt.figure(figsize=(12,4))\n",
    "plt.bar(top_ten_features, top_ten_imp)\n",
    "plt.ylabel(\"Magnitude of Importance:\")\n",
    "\n",
    "print(\"Top Ten Features:\\n\")\n",
    "for i in range(len(top_ten_features)):\n",
    "    print(f'{top_ten_features[i]}. Importance: {top_ten_imp[i]:.2f}')"
   ]
  },
  {
   "cell_type": "markdown",
   "metadata": {},
   "source": [
    "#### As expected, being over the age of 65 is the most significant factor when it comes to predicting COVID-19 deaths.  It also appears death rates vary by state, likely because of popuation densities and varying restrictions.\n",
    "#### We can take a more in-depth analysis using SHAP, which also gives us information about the direction of each feature's importance."
   ]
  },
  {
   "cell_type": "code",
   "execution_count": 177,
   "metadata": {},
   "outputs": [
    {
     "data": {
      "image/png": "[encoded data removed]",
      "text/plain": [
       "<Figure size 576x396 with 2 Axes>"
      ]
     },
     "metadata": {
      "needs_background": "light"
     },
     "output_type": "display_data"
    }
   ],
   "source": [
    "# Plot using SHAP\n",
    "explainer = shap.TreeExplainer(xgb, feature_names=columns)\n",
    "shap_values = explainer(X)\n",
    "shap.summary_plot(shap_values=shap_values, features=X, max_display=10)"
   ]
  },
  {
   "cell_type": "markdown",
   "metadata": {},
   "source": [
    "#### This confirms that being 65+ years old puts you at a much higher risk of dying, whereas being in a lower age bucket (18-49 years) significantly reduces that risk.\n",
    "#### \"Month\" is also worth nothing.  As the value of \"Month\" increases, the lower the likelihood of death becomes.  This is good news, as it means we have made significant progress in reducing COVID-19 related deaths.  It may also indicate that more recent variants (eg. Omicron) are not as deadly."
   ]
  },
  {
   "cell_type": "markdown",
   "metadata": {},
   "source": [
    "## Thank you for checking out my model and analysis! Hope you liked it!"
   ]
  },
  {
   "cell_type": "code",
   "execution_count": null,
   "metadata": {},
   "outputs": [],
   "source": []
  }
 ],
 "metadata": {
  "kernelspec": {
   "display_name": "Python 3",
   "language": "python",
   "name": "python3"
  },
  "language_info": {
   "codemirror_mode": {
    "name": "ipython",
    "version": 3
   },
   "file_extension": ".py",
   "mimetype": "text/x-python",
   "name": "python",
   "nbconvert_exporter": "python",
   "pygments_lexer": "ipython3",
   "version": "3.8.5"
  }
 },
 "nbformat": 4,
 "nbformat_minor": 4
}
