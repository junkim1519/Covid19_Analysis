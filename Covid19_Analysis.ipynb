{
 "cells": [
  {
   "cell_type": "markdown",
   "metadata": {},
   "source": [
    "## COVID-19 death analysis\n",
    "## Author: Jun Kim\n",
    "## Objective: Build a model that predicts whether a COVID-19 case results in a death or not\n",
    "#### This data was obtained from the CDC and can be downloaded here: https://data.cdc.gov/Case-Surveillance/COVID-19-Case-Surveillance-Public-Use-Data-with-Ge/n8mc-b4w4.  Descriptions of the features are also listed on the site."
   ]
  },
  {
   "cell_type": "code",
   "execution_count": 383,
   "metadata": {},
   "outputs": [],
   "source": [
    "import pandas as pd\n",
    "import numpy as np\n",
    "from sklearn.preprocessing import OneHotEncoder\n",
    "from sklearn.linear_model import LogisticRegression\n",
    "from sklearn.preprocessing import MinMaxScaler\n",
    "from sklearn.model_selection import cross_val_score\n",
    "from sklearn.model_selection import train_test_split\n",
    "from sklearn.metrics import roc_auc_score\n",
    "from sklearn.metrics import roc_curve\n",
    "import matplotlib.pylab as plt"
   ]
  },
  {
   "cell_type": "markdown",
   "metadata": {},
   "source": [
    "#### Due to the very large size of the original dataset, a sample of around 362,000 rows was used for this analysis.  The dates range from Jan 2020 to Sept 2021\n",
    "\n",
    "#### The training set contains data from Jan 2020 to June 2021, and the test set contains data from July 2021 onwards. This results in roughly an 80%-20% split"
   ]
  },
  {
   "cell_type": "code",
   "execution_count": 384,
   "metadata": {},
   "outputs": [
    {
     "name": "stdout",
     "output_type": "stream",
     "text": [
      "(285316, 19)\n",
      "(76935, 19)\n"
     ]
    }
   ],
   "source": [
    "# Load data\n",
    "df_train = pd.read_csv('train.csv', low_memory=False)\n",
    "df_test = pd.read_csv('test.csv', low_memory=False)\n",
    "\n",
    "# Check shapes\n",
    "print(df_train.shape)\n",
    "print(df_test.shape)"
   ]
  },
  {
   "cell_type": "markdown",
   "metadata": {},
   "source": [
    "## Data Wrangling and preparation\n",
    "#### This data has a lot of missing data.  Almost every row has at least one missing value, so simply removing those rows is not an option.  This is the methodology I used to impute missing data:\n",
    "#### For variables with many different categories (ex. Race), a catch-all bucket named \"Missing\" was created for all missing/unknown values.\n",
    "#### For binary variables that indicated the presense of something (ex. Hospitalized or not), missing values were assumed to be 0.\n",
    "#### For numerical variables, missing values were imputed with their average values"
   ]
  },
  {
   "cell_type": "code",
   "execution_count": 385,
   "metadata": {},
   "outputs": [
    {
     "name": "stdout",
     "output_type": "stream",
     "text": [
      "Train shape: (285316, 16)\n",
      "Test shape: (76935, 16)\n"
     ]
    }
   ],
   "source": [
    "# Drop variables\n",
    "# - state_fips_code is already reflected in the state\n",
    "# - There are 1,350 distinct county_fips_code values and 938 distinct res_county values\n",
    "#   This would blow up the feature input space way too much, and likely doesn't carry meaningful information\n",
    "df_train.drop(['state_fips_code', 'res_county', 'county_fips_code'], axis=1, inplace=True)\n",
    "df_test.drop(['state_fips_code', 'res_county', 'county_fips_code'], axis=1, inplace=True)\n",
    "\n",
    "# Calculate averages for numerical values\n",
    "psi_train_avg = df_train['case_positive_specimen_interval'].mean()\n",
    "oi_train_avg = df_train['case_onset_interval'].mean()\n",
    "\n",
    "psi_test_avg = df_test['case_positive_specimen_interval'].mean()\n",
    "oi_test_avg = df_test['case_onset_interval'].mean()\n",
    "\n",
    "# Fill missing values for training set\n",
    "df_train.replace({'age_group':{np.nan:'Missing'}}, inplace=True)\n",
    "df_train.replace({'sex':{np.nan:'Missing', 'Unknown':'Missing'}}, inplace=True)\n",
    "df_train.replace({'race':{np.nan:'Missing', 'Unknown':'Missing'}}, inplace=True)\n",
    "df_train.replace({'ethnicity':{np.nan:'Missing', 'Unknown':'Missing'}}, inplace=True)\n",
    "df_train.replace({'case_positive_specimen_interval':{np.nan:psi_train_avg}}, inplace=True)\n",
    "df_train.replace({'case_onset_interval':{np.nan:oi_train_avg}}, inplace=True)\n",
    "df_train.replace({'process':{np.nan:'Missing', 'Unknown':'Missing', 'Other detection method (specify)':'Missing', 'Other':'Missing'}}, inplace=True)\n",
    "df_train.replace({'exposure_yn':{np.nan:0}}, inplace=True)\n",
    "df_train.replace({'symptomatic_yn':{np.nan:0}}, inplace=True)\n",
    "df_train.replace({'hosp_yn':{np.nan:0}}, inplace=True)\n",
    "df_train.replace({'icu_yn':{np.nan:0}}, inplace=True)\n",
    "df_train.replace({'underlying_conditions_yn':{np.nan:0}}, inplace=True)\n",
    "df_train.replace({'labconfirmed_yn':{np.nan:0}}, inplace=True)\n",
    "df_train.replace({'death_yn':{np.nan:0}}, inplace=True)\n",
    "\n",
    "# Fill missing values for test set\n",
    "df_test.replace({'death_yn':{np.nan:0}}, inplace=True)\n",
    "df_test.replace({'age_group':{np.nan:'Missing'}}, inplace=True)\n",
    "df_test.replace({'sex':{np.nan:'Missing', 'Unknown':'Missing'}}, inplace=True)\n",
    "df_test.replace({'race':{np.nan:'Missing', 'Unknown':'Missing'}}, inplace=True)\n",
    "df_test.replace({'ethnicity':{np.nan:'Missing', 'Unknown':'Missing'}}, inplace=True)\n",
    "df_test.replace({'case_positive_specimen_interval':{np.nan:psi_test_avg}}, inplace=True)\n",
    "df_test.replace({'case_onset_interval':{np.nan:oi_test_avg}}, inplace=True)\n",
    "df_test.replace({'process':{np.nan:'Missing', 'Unknown':'Missing', 'Other detection method (specify)':'Missing', 'Other':'Missing'}}, inplace=True)\n",
    "df_test.replace({'exposure_yn':{np.nan:0}}, inplace=True)\n",
    "df_test.replace({'symptomatic_yn':{np.nan:0, 'nul':0}}, inplace=True)\n",
    "df_test['symptomatic_yn'] = pd.to_numeric(df_test['symptomatic_yn'])\n",
    "df_test.replace({'hosp_yn':{np.nan:0}}, inplace=True)\n",
    "df_test.replace({'icu_yn':{np.nan:0, 'nul':0}}, inplace=True)\n",
    "df_test['icu_yn'] = pd.to_numeric(df_test['icu_yn'])\n",
    "df_test.replace({'underlying_conditions_yn':{np.nan:0}}, inplace=True)\n",
    "\n",
    "# Check shapes\n",
    "print(\"Train shape:\", df_train.shape)\n",
    "print(\"Test shape:\", df_test.shape)"
   ]
  },
  {
   "cell_type": "code",
   "execution_count": 386,
   "metadata": {},
   "outputs": [],
   "source": [
    "# One-hot encode categorical variables\n",
    "# Also keep track of the new column names\n",
    "columns = []\n",
    "\n",
    "# Encode state\n",
    "enc = OneHotEncoder(handle_unknown='ignore', sparse=False)\n",
    "enc.fit(df_train[['res_state']])\n",
    "state_train = enc.transform(df_train[['res_state']])\n",
    "state_test = enc.transform(df_test[['res_state']])\n",
    "for i in np.array(enc.categories_).flatten():\n",
    "    columns.append(i)\n",
    "    \n",
    "# Encode age group\n",
    "enc.fit(df_train[['age_group']])\n",
    "age_train = enc.transform(df_train[['age_group']])\n",
    "age_test = enc.transform(df_test[['age_group']])\n",
    "for i in np.array(enc.categories_).flatten():\n",
    "    columns.append(i)\n",
    "\n",
    "# Encode sex\n",
    "enc.fit(df_train[['sex']])\n",
    "sex_train = enc.transform(df_train[['sex']])\n",
    "sex_test = enc.transform(df_test[['sex']])\n",
    "for i in np.array(enc.categories_).flatten():\n",
    "    columns.append(i)\n",
    "\n",
    "# Encode race\n",
    "enc.fit(df_train[['race']])\n",
    "race_train = enc.transform(df_train[['race']])\n",
    "race_test = enc.transform(df_test[['race']])\n",
    "for i in np.array(enc.categories_).flatten():\n",
    "    columns.append(i)\n",
    "\n",
    "# Encode ethnicity\n",
    "enc.fit(df_train[['ethnicity']])\n",
    "ethnicity_train = enc.transform(df_train[['ethnicity']])\n",
    "ethnicity_test = enc.transform(df_test[['ethnicity']])\n",
    "for i in np.array(enc.categories_).flatten():\n",
    "    columns.append(i)\n",
    "\n",
    "# Encode process\n",
    "enc.fit(df_train[['process']])\n",
    "process_train = enc.transform(df_train[['process']])\n",
    "process_test = enc.transform(df_test[['process']])\n",
    "for i in np.array(enc.categories_).flatten():\n",
    "    columns.append(i)"
   ]
  },
  {
   "cell_type": "code",
   "execution_count": 387,
   "metadata": {},
   "outputs": [],
   "source": [
    "# Represent case_month as the number of months since Jan 2020\n",
    "\n",
    "# Since Covid-19 has mutated and we have seen many different variants, it is expected that death rates\n",
    "#   may vary depending on what variant was prevalent at the time.  Keeping the month as a variable\n",
    "#   can take this into account and give heavier weight to more recent examples\n",
    "\n",
    "month_train = (pd.to_datetime(df_train['case_month']).dt.year - 2020) * 12 + \\\n",
    "               pd.to_datetime(df_train['case_month']).dt.month\n",
    "month_train = month_train.to_frame()\n",
    "\n",
    "month_test = (pd.to_datetime(df_test['case_month']).dt.year - 2020) * 12 + \\\n",
    "               pd.to_datetime(df_test['case_month']).dt.month\n",
    "month_test = month_test.to_frame()"
   ]
  },
  {
   "cell_type": "code",
   "execution_count": 388,
   "metadata": {},
   "outputs": [],
   "source": [
    "# Normalize numerical variables\n",
    "\n",
    "# Since most of our variables are categorical and are in the range of 0-1, I thought it would be \n",
    "#   more appropriate to have numerical variables also within 0-1, hence the MinMaxScaler\n",
    "#   as opposed to the StandardScaler.\n",
    "scaler = MinMaxScaler()\n",
    "\n",
    "# Normalize month\n",
    "month_train_scaled = scaler.fit_transform(month_train)\n",
    "month_test_scaled = scaler.transform(month_test)\n",
    "columns.append('Month')\n",
    "\n",
    "# Normalize case_positive_specimen_interval\n",
    "case_PSI_train_scaled = scaler.fit_transform(df_train[[\"case_positive_specimen_interval\"]])\n",
    "case_PSI_test_scaled = scaler.transform(df_test[[\"case_positive_specimen_interval\"]])\n",
    "columns.append('Case_PSI')\n",
    "                                     \n",
    "# Normalize case_onset_interval\n",
    "case_OI_train_scaled = scaler.fit_transform(df_train[[\"case_onset_interval\"]])\n",
    "case_OI_test_scaled = scaler.transform(df_test[[\"case_onset_interval\"]])\n",
    "columns.append('Case_OI')"
   ]
  },
  {
   "cell_type": "code",
   "execution_count": 389,
   "metadata": {},
   "outputs": [
    {
     "name": "stdout",
     "output_type": "stream",
     "text": [
      "X train shape: (285316, 89)\n",
      "y train shape: (285316,)\n",
      "X test shape: (76935, 89)\n",
      "y test shape: (76935,)\n"
     ]
    }
   ],
   "source": [
    "# Concatenate into the final dataset in the order that the column names were added\n",
    "\n",
    "# Training set\n",
    "y = df_train['death_yn']\n",
    "df_train.drop(['case_month', 'res_state', 'age_group', 'sex', 'race', 'ethnicity', 'process', 'death_yn', \\\n",
    "                  'case_positive_specimen_interval', 'case_onset_interval'], axis=1, inplace=True)\n",
    "X = np.concatenate([state_train, age_train, sex_train, race_train, ethnicity_train, process_train, \\\n",
    "                    month_train_scaled, case_PSI_train_scaled, case_OI_train_scaled, df_train], axis=1)\n",
    "\n",
    "# Test set\n",
    "y_test = df_test['death_yn']\n",
    "df_test.drop(['case_month', 'res_state', 'age_group', 'sex', 'race', 'ethnicity', 'process', 'death_yn', \\\n",
    "                  'case_positive_specimen_interval', 'case_onset_interval'], axis=1, inplace=True)\n",
    "X_test = np.concatenate([state_test, age_test, sex_test, race_test, ethnicity_test, process_test, \\\n",
    "                        month_test_scaled, case_PSI_test_scaled, case_OI_test_scaled, df_test], axis=1)\n",
    "\n",
    "# Add remaining feature names to columns list\n",
    "for i in df_train.columns:\n",
    "    columns.append(i)\n",
    "\n",
    "# Check shapes\n",
    "print(\"X train shape:\", X.shape)\n",
    "print(\"y train shape:\", y.shape)\n",
    "print(\"X test shape:\", X_test.shape)\n",
    "print(\"y test shape:\", y_test.shape)"
   ]
  },
  {
   "cell_type": "markdown",
   "metadata": {},
   "source": [
    "#### After testing many different classification models, Logistic Regression ended up being one of the top performing models"
   ]
  },
  {
   "cell_type": "code",
   "execution_count": 390,
   "metadata": {},
   "outputs": [
    {
     "name": "stdout",
     "output_type": "stream",
     "text": [
      "C = 0.2: 0.9824\n",
      "C = 0.4: 0.9824\n",
      "C = 0.6000000000000001: 0.9824\n",
      "C = 0.8: 0.9824\n",
      "C = 1.0: 0.9824\n",
      "C = 1.2: 0.9824\n",
      "C = 1.4000000000000001: 0.9824\n",
      "C = 1.6: 0.9824\n",
      "C = 1.8: 0.9824\n",
      "C = 2.0: 0.9824\n"
     ]
    }
   ],
   "source": [
    "# Hyperparameter grid search with cross validation - this step can take a few minutes\n",
    "for i in np.arange(0.2, 2.1, 0.2):\n",
    "    logreg = LogisticRegression(max_iter=300)\n",
    "    scores = cross_val_score(logreg, X, y, cv=5)\n",
    "    print(f\"C = {i}: {np.mean(scores):.4f}\")"
   ]
  },
  {
   "cell_type": "code",
   "execution_count": 391,
   "metadata": {},
   "outputs": [
    {
     "name": "stdout",
     "output_type": "stream",
     "text": [
      "Test score: 0.9954\n",
      "Test AUC: 0.9668\n"
     ]
    },
    {
     "data": {
      "text/plain": [
       "[<matplotlib.lines.Line2D at 0x7fa9cd65c160>]"
      ]
     },
     "execution_count": 391,
     "metadata": {},
     "output_type": "execute_result"
    },
    {
     "data": {
      "image/png": "[encoded data removed]",
      "text/plain": [
       "<Figure size 432x288 with 1 Axes>"
      ]
     },
     "metadata": {
      "needs_background": "light"
     },
     "output_type": "display_data"
    }
   ],
   "source": [
    "# Seems like the hyperparameter choice doesn't make much of a difference. Let's stick to the default.\n",
    "# Evaluate our final model on the basis of accuracy, ROC, and AUC\n",
    "\n",
    "logreg = LogisticRegression(max_iter=300)\n",
    "logreg.fit(X, y)\n",
    "score = logreg.score(X_test, y_test)\n",
    "pred = logreg.predict_proba(X_test)[:,1]\n",
    "auc = roc_auc_score(y_test, pred)\n",
    "\n",
    "print(f\"Test score: {score:.4f}\")\n",
    "print(f\"Test AUC: {auc:.4f}\")\n",
    "\n",
    "fpr, tpr, thresh = roc_curve(y_test, pred)\n",
    "plt.title(\"ROC Curve\")\n",
    "plt.plot(fpr, tpr)"
   ]
  },
  {
   "cell_type": "code",
   "execution_count": 392,
   "metadata": {},
   "outputs": [
    {
     "name": "stdout",
     "output_type": "stream",
     "text": [
      "Top Ten Features:\n",
      "\n",
      "65+ years. Coefficient: 3.31\n",
      "PR. Coefficient: 3.30\n",
      "0 - 17 years. Coefficient: -2.72\n",
      "Month. Coefficient: -2.38\n",
      "18 to 49 years. Coefficient: -1.93\n",
      "hosp_yn. Coefficient: 1.79\n",
      "Case_PSI. Coefficient: -1.64\n",
      "GA. Coefficient: -1.59\n",
      "NE. Coefficient: -1.47\n",
      "icu_yn. Coefficient: 1.45\n"
     ]
    },
    {
     "data": {
      "image/png": "[encoded data removed]",
      "text/plain": [
       "<Figure size 1080x288 with 1 Axes>"
      ]
     },
     "metadata": {
      "needs_background": "light"
     },
     "output_type": "display_data"
    }
   ],
   "source": [
    "# Most significant variables\n",
    "\n",
    "coefs = logreg.coef_.flatten()\n",
    "columns = np.array(columns)\n",
    "\n",
    "abs_coefs = np.abs(coefs)\n",
    "sign_coefs = np.sign(coefs)\n",
    "indexes = np.flip(np.argsort(abs_coefs))\n",
    "\n",
    "top_ten_features = columns[indexes][:10]\n",
    "top_ten_magnitude = abs_coefs[indexes][:10]\n",
    "top_ten_sign = sign_coefs[indexes][:10]\n",
    "\n",
    "# Plot\n",
    "plt.figure(figsize=(15,4))\n",
    "plt.bar(top_ten_features, top_ten_magnitude)\n",
    "plt.ylabel(\"Absolute Value of Coefficients\")\n",
    "\n",
    "print(\"Top Ten Features:\\n\")\n",
    "for i in range(len(top_ten_features)):\n",
    "    print(f'{top_ten_features[i]}. Coefficient: {top_ten_magnitude[i] * top_ten_sign[i]:.2f}')\n",
    "    "
   ]
  },
  {
   "cell_type": "markdown",
   "metadata": {},
   "source": [
    "### Thank you for checking out my model and analysis! Hope you liked it!"
   ]
  },
  {
   "cell_type": "code",
   "execution_count": null,
   "metadata": {},
   "outputs": [],
   "source": []
  }
 ],
 "metadata": {
  "kernelspec": {
   "display_name": "Python 3",
   "language": "python",
   "name": "python3"
  },
  "language_info": {
   "codemirror_mode": {
    "name": "ipython",
    "version": 3
   },
   "file_extension": ".py",
   "mimetype": "text/x-python",
   "name": "python",
   "nbconvert_exporter": "python",
   "pygments_lexer": "ipython3",
   "version": "3.8.5"
  }
 },
 "nbformat": 4,
 "nbformat_minor": 4
}
